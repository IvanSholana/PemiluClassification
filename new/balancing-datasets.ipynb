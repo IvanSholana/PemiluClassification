{
 "cells": [
  {
   "cell_type": "code",
   "execution_count": 2,
   "metadata": {},
   "outputs": [],
   "source": [
    "import os"
   ]
  },
  {
   "cell_type": "code",
   "execution_count": 3,
   "metadata": {},
   "outputs": [
    {
     "data": {
      "text/plain": [
       "{'0': 589,\n",
       " '1': 858,\n",
       " '10': 1460,\n",
       " '2': 278,\n",
       " '3': 206,\n",
       " '4': 209,\n",
       " '5': 181,\n",
       " '6': 171,\n",
       " '7': 180,\n",
       " '8': 185,\n",
       " '9': 164}"
      ]
     },
     "execution_count": 3,
     "metadata": {},
     "output_type": "execute_result"
    }
   ],
   "source": [
    "def count_images_per_class(directory):\n",
    "    class_counts = {}\n",
    "    for folder in os.listdir(directory):\n",
    "        folder_path = os.path.join(directory, folder)\n",
    "        if os.path.isdir(folder_path):\n",
    "            num_images = len([file for file in os.listdir(folder_path) if file.endswith('.jpg')])\n",
    "            class_counts[folder] = num_images\n",
    "    return class_counts\n",
    "\n",
    "# Example usage\n",
    "directory = \"./Datasets\"\n",
    "image_counts = count_images_per_class(directory)\n",
    "image_counts\n"
   ]
  },
  {
   "cell_type": "code",
   "execution_count": 4,
   "metadata": {},
   "outputs": [],
   "source": [
    "import shutil\n",
    "import random"
   ]
  },
  {
   "cell_type": "code",
   "execution_count": 6,
   "metadata": {},
   "outputs": [
    {
     "name": "stdout",
     "output_type": "stream",
     "text": [
      "Balanced dataset saved to: ./Balanced-Datasets\n"
     ]
    }
   ],
   "source": [
    "def balance_dataset(directory, new_directory, max_images=300):\n",
    "    if not os.path.exists(new_directory):\n",
    "        os.makedirs(new_directory)\n",
    "    \n",
    "    for folder in os.listdir(directory):\n",
    "        folder_path = os.path.join(directory, folder)\n",
    "        new_folder_path = os.path.join(new_directory, folder)\n",
    "        \n",
    "        if os.path.isdir(folder_path):\n",
    "            os.makedirs(new_folder_path, exist_ok=True)\n",
    "            \n",
    "            images = [file for file in os.listdir(folder_path) if file.endswith('.jpg')]\n",
    "            num_images = len(images)\n",
    "            \n",
    "            if num_images > max_images:\n",
    "                images_to_copy = random.sample(images, max_images)\n",
    "            else:\n",
    "                images_to_copy = images\n",
    "            \n",
    "            for image in images_to_copy:\n",
    "                src = os.path.join(folder_path, image)\n",
    "                dst = os.path.join(new_folder_path, image)\n",
    "                shutil.copy(src, dst)\n",
    "                \n",
    "    print(f\"Balanced dataset saved to: {new_directory}\")\n",
    "\n",
    "# Example usage:\n",
    "directory = \"./Datasets\"\n",
    "new_directory = \"./Balanced-Datasets\"\n",
    "balance_dataset(directory, new_directory)"
   ]
  },
  {
   "cell_type": "code",
   "execution_count": 7,
   "metadata": {},
   "outputs": [
    {
     "data": {
      "text/plain": [
       "{'0': 300,\n",
       " '1': 300,\n",
       " '10': 300,\n",
       " '2': 278,\n",
       " '3': 206,\n",
       " '4': 209,\n",
       " '5': 181,\n",
       " '6': 171,\n",
       " '7': 180,\n",
       " '8': 185,\n",
       " '9': 164}"
      ]
     },
     "execution_count": 7,
     "metadata": {},
     "output_type": "execute_result"
    },
    {
     "ename": "",
     "evalue": "",
     "output_type": "error",
     "traceback": [
      "\u001b[1;31mThe Kernel crashed while executing code in the current cell or a previous cell. \n",
      "\u001b[1;31mPlease review the code in the cell(s) to identify a possible cause of the failure. \n",
      "\u001b[1;31mClick <a href='https://aka.ms/vscodeJupyterKernelCrash'>here</a> for more info. \n",
      "\u001b[1;31mView Jupyter <a href='command:jupyter.viewOutput'>log</a> for further details."
     ]
    }
   ],
   "source": [
    "directory = \"./Balanced-Datasets\"\n",
    "image_counts = count_images_per_class(directory)\n",
    "image_counts"
   ]
  }
 ],
 "metadata": {
  "kernelspec": {
   "display_name": "ocr",
   "language": "python",
   "name": "python3"
  },
  "language_info": {
   "codemirror_mode": {
    "name": "ipython",
    "version": 3
   },
   "file_extension": ".py",
   "mimetype": "text/x-python",
   "name": "python",
   "nbconvert_exporter": "python",
   "pygments_lexer": "ipython3",
   "version": "3.9.19"
  }
 },
 "nbformat": 4,
 "nbformat_minor": 2
}
